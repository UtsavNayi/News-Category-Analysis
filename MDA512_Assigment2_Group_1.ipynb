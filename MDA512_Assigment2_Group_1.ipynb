{
 "cells": [
  {
   "cell_type": "markdown",
   "id": "5832976d",
   "metadata": {},
   "source": [
    "# Analysis of News Categories"
   ]
  },
  {
   "cell_type": "code",
   "execution_count": 1,
   "id": "c63a6cca",
   "metadata": {},
   "outputs": [],
   "source": [
    "import pandas as pd\n",
    "import numpy as np\n",
    "import matplotlib.pyplot as plt\n",
    "import json\n",
    "import gc"
   ]
  },
  {
   "cell_type": "code",
   "execution_count": 2,
   "id": "fbf63eb5",
   "metadata": {},
   "outputs": [
    {
     "data": {
      "text/plain": [
       "24"
      ]
     },
     "execution_count": 2,
     "metadata": {},
     "output_type": "execute_result"
    }
   ],
   "source": [
    "#Clear cache\n",
    "gc.collect()"
   ]
  },
  {
   "cell_type": "code",
   "execution_count": 3,
   "id": "a1ae4d48",
   "metadata": {},
   "outputs": [],
   "source": [
    "news_category = pd.read_json('D:/MIT_AT/MDA512-DS/Assignment-2/News_Category_Dataset/News_Category_Dataset_v3.json', lines=True)"
   ]
  },
  {
   "cell_type": "code",
   "execution_count": 4,
   "id": "5670bea2",
   "metadata": {},
   "outputs": [
    {
     "data": {
      "text/html": [
       "<div>\n",
       "<style scoped>\n",
       "    .dataframe tbody tr th:only-of-type {\n",
       "        vertical-align: middle;\n",
       "    }\n",
       "\n",
       "    .dataframe tbody tr th {\n",
       "        vertical-align: top;\n",
       "    }\n",
       "\n",
       "    .dataframe thead th {\n",
       "        text-align: right;\n",
       "    }\n",
       "</style>\n",
       "<table border=\"1\" class=\"dataframe\">\n",
       "  <thead>\n",
       "    <tr style=\"text-align: right;\">\n",
       "      <th></th>\n",
       "      <th>link</th>\n",
       "      <th>headline</th>\n",
       "      <th>category</th>\n",
       "      <th>short_description</th>\n",
       "      <th>authors</th>\n",
       "      <th>date</th>\n",
       "    </tr>\n",
       "  </thead>\n",
       "  <tbody>\n",
       "    <tr>\n",
       "      <th>0</th>\n",
       "      <td>https://www.huffpost.com/entry/covid-boosters-...</td>\n",
       "      <td>Over 4 Million Americans Roll Up Sleeves For O...</td>\n",
       "      <td>U.S. NEWS</td>\n",
       "      <td>Health experts said it is too early to predict...</td>\n",
       "      <td>Carla K. Johnson, AP</td>\n",
       "      <td>2022-09-23</td>\n",
       "    </tr>\n",
       "    <tr>\n",
       "      <th>1</th>\n",
       "      <td>https://www.huffpost.com/entry/american-airlin...</td>\n",
       "      <td>American Airlines Flyer Charged, Banned For Li...</td>\n",
       "      <td>U.S. NEWS</td>\n",
       "      <td>He was subdued by passengers and crew when he ...</td>\n",
       "      <td>Mary Papenfuss</td>\n",
       "      <td>2022-09-23</td>\n",
       "    </tr>\n",
       "    <tr>\n",
       "      <th>2</th>\n",
       "      <td>https://www.huffpost.com/entry/funniest-tweets...</td>\n",
       "      <td>23 Of The Funniest Tweets About Cats And Dogs ...</td>\n",
       "      <td>COMEDY</td>\n",
       "      <td>\"Until you have a dog you don't understand wha...</td>\n",
       "      <td>Elyse Wanshel</td>\n",
       "      <td>2022-09-23</td>\n",
       "    </tr>\n",
       "    <tr>\n",
       "      <th>3</th>\n",
       "      <td>https://www.huffpost.com/entry/funniest-parent...</td>\n",
       "      <td>The Funniest Tweets From Parents This Week (Se...</td>\n",
       "      <td>PARENTING</td>\n",
       "      <td>\"Accidentally put grown-up toothpaste on my to...</td>\n",
       "      <td>Caroline Bologna</td>\n",
       "      <td>2022-09-23</td>\n",
       "    </tr>\n",
       "    <tr>\n",
       "      <th>4</th>\n",
       "      <td>https://www.huffpost.com/entry/amy-cooper-lose...</td>\n",
       "      <td>Woman Who Called Cops On Black Bird-Watcher Lo...</td>\n",
       "      <td>U.S. NEWS</td>\n",
       "      <td>Amy Cooper accused investment firm Franklin Te...</td>\n",
       "      <td>Nina Golgowski</td>\n",
       "      <td>2022-09-22</td>\n",
       "    </tr>\n",
       "    <tr>\n",
       "      <th>...</th>\n",
       "      <td>...</td>\n",
       "      <td>...</td>\n",
       "      <td>...</td>\n",
       "      <td>...</td>\n",
       "      <td>...</td>\n",
       "      <td>...</td>\n",
       "    </tr>\n",
       "    <tr>\n",
       "      <th>209522</th>\n",
       "      <td>https://www.huffingtonpost.com/entry/rim-ceo-t...</td>\n",
       "      <td>RIM CEO Thorsten Heins' 'Significant' Plans Fo...</td>\n",
       "      <td>TECH</td>\n",
       "      <td>Verizon Wireless and AT&amp;T are already promotin...</td>\n",
       "      <td>Reuters, Reuters</td>\n",
       "      <td>2012-01-28</td>\n",
       "    </tr>\n",
       "    <tr>\n",
       "      <th>209523</th>\n",
       "      <td>https://www.huffingtonpost.com/entry/maria-sha...</td>\n",
       "      <td>Maria Sharapova Stunned By Victoria Azarenka I...</td>\n",
       "      <td>SPORTS</td>\n",
       "      <td>Afterward, Azarenka, more effusive with the pr...</td>\n",
       "      <td></td>\n",
       "      <td>2012-01-28</td>\n",
       "    </tr>\n",
       "    <tr>\n",
       "      <th>209524</th>\n",
       "      <td>https://www.huffingtonpost.com/entry/super-bow...</td>\n",
       "      <td>Giants Over Patriots, Jets Over Colts Among  M...</td>\n",
       "      <td>SPORTS</td>\n",
       "      <td>Leading up to Super Bowl XLVI, the most talked...</td>\n",
       "      <td></td>\n",
       "      <td>2012-01-28</td>\n",
       "    </tr>\n",
       "    <tr>\n",
       "      <th>209525</th>\n",
       "      <td>https://www.huffingtonpost.com/entry/aldon-smi...</td>\n",
       "      <td>Aldon Smith Arrested: 49ers Linebacker Busted ...</td>\n",
       "      <td>SPORTS</td>\n",
       "      <td>CORRECTION: An earlier version of this story i...</td>\n",
       "      <td></td>\n",
       "      <td>2012-01-28</td>\n",
       "    </tr>\n",
       "    <tr>\n",
       "      <th>209526</th>\n",
       "      <td>https://www.huffingtonpost.com/entry/dwight-ho...</td>\n",
       "      <td>Dwight Howard Rips Teammates After Magic Loss ...</td>\n",
       "      <td>SPORTS</td>\n",
       "      <td>The five-time all-star center tore into his te...</td>\n",
       "      <td></td>\n",
       "      <td>2012-01-28</td>\n",
       "    </tr>\n",
       "  </tbody>\n",
       "</table>\n",
       "<p>209527 rows × 6 columns</p>\n",
       "</div>"
      ],
      "text/plain": [
       "                                                     link  \\\n",
       "0       https://www.huffpost.com/entry/covid-boosters-...   \n",
       "1       https://www.huffpost.com/entry/american-airlin...   \n",
       "2       https://www.huffpost.com/entry/funniest-tweets...   \n",
       "3       https://www.huffpost.com/entry/funniest-parent...   \n",
       "4       https://www.huffpost.com/entry/amy-cooper-lose...   \n",
       "...                                                   ...   \n",
       "209522  https://www.huffingtonpost.com/entry/rim-ceo-t...   \n",
       "209523  https://www.huffingtonpost.com/entry/maria-sha...   \n",
       "209524  https://www.huffingtonpost.com/entry/super-bow...   \n",
       "209525  https://www.huffingtonpost.com/entry/aldon-smi...   \n",
       "209526  https://www.huffingtonpost.com/entry/dwight-ho...   \n",
       "\n",
       "                                                 headline   category  \\\n",
       "0       Over 4 Million Americans Roll Up Sleeves For O...  U.S. NEWS   \n",
       "1       American Airlines Flyer Charged, Banned For Li...  U.S. NEWS   \n",
       "2       23 Of The Funniest Tweets About Cats And Dogs ...     COMEDY   \n",
       "3       The Funniest Tweets From Parents This Week (Se...  PARENTING   \n",
       "4       Woman Who Called Cops On Black Bird-Watcher Lo...  U.S. NEWS   \n",
       "...                                                   ...        ...   \n",
       "209522  RIM CEO Thorsten Heins' 'Significant' Plans Fo...       TECH   \n",
       "209523  Maria Sharapova Stunned By Victoria Azarenka I...     SPORTS   \n",
       "209524  Giants Over Patriots, Jets Over Colts Among  M...     SPORTS   \n",
       "209525  Aldon Smith Arrested: 49ers Linebacker Busted ...     SPORTS   \n",
       "209526  Dwight Howard Rips Teammates After Magic Loss ...     SPORTS   \n",
       "\n",
       "                                        short_description  \\\n",
       "0       Health experts said it is too early to predict...   \n",
       "1       He was subdued by passengers and crew when he ...   \n",
       "2       \"Until you have a dog you don't understand wha...   \n",
       "3       \"Accidentally put grown-up toothpaste on my to...   \n",
       "4       Amy Cooper accused investment firm Franklin Te...   \n",
       "...                                                   ...   \n",
       "209522  Verizon Wireless and AT&T are already promotin...   \n",
       "209523  Afterward, Azarenka, more effusive with the pr...   \n",
       "209524  Leading up to Super Bowl XLVI, the most talked...   \n",
       "209525  CORRECTION: An earlier version of this story i...   \n",
       "209526  The five-time all-star center tore into his te...   \n",
       "\n",
       "                     authors       date  \n",
       "0       Carla K. Johnson, AP 2022-09-23  \n",
       "1             Mary Papenfuss 2022-09-23  \n",
       "2              Elyse Wanshel 2022-09-23  \n",
       "3           Caroline Bologna 2022-09-23  \n",
       "4             Nina Golgowski 2022-09-22  \n",
       "...                      ...        ...  \n",
       "209522      Reuters, Reuters 2012-01-28  \n",
       "209523                       2012-01-28  \n",
       "209524                       2012-01-28  \n",
       "209525                       2012-01-28  \n",
       "209526                       2012-01-28  \n",
       "\n",
       "[209527 rows x 6 columns]"
      ]
     },
     "execution_count": 4,
     "metadata": {},
     "output_type": "execute_result"
    }
   ],
   "source": [
    "news_category"
   ]
  },
  {
   "cell_type": "code",
   "execution_count": 5,
   "id": "685ed2b1",
   "metadata": {},
   "outputs": [
    {
     "data": {
      "text/html": [
       "<div>\n",
       "<style scoped>\n",
       "    .dataframe tbody tr th:only-of-type {\n",
       "        vertical-align: middle;\n",
       "    }\n",
       "\n",
       "    .dataframe tbody tr th {\n",
       "        vertical-align: top;\n",
       "    }\n",
       "\n",
       "    .dataframe thead th {\n",
       "        text-align: right;\n",
       "    }\n",
       "</style>\n",
       "<table border=\"1\" class=\"dataframe\">\n",
       "  <thead>\n",
       "    <tr style=\"text-align: right;\">\n",
       "      <th></th>\n",
       "      <th>link</th>\n",
       "      <th>headline</th>\n",
       "      <th>category</th>\n",
       "      <th>short_description</th>\n",
       "      <th>authors</th>\n",
       "      <th>date</th>\n",
       "    </tr>\n",
       "  </thead>\n",
       "  <tbody>\n",
       "    <tr>\n",
       "      <th>0</th>\n",
       "      <td>https://www.huffpost.com/entry/covid-boosters-...</td>\n",
       "      <td>Over 4 Million Americans Roll Up Sleeves For O...</td>\n",
       "      <td>U.S. NEWS</td>\n",
       "      <td>Health experts said it is too early to predict...</td>\n",
       "      <td>Carla K. Johnson, AP</td>\n",
       "      <td>2022-09-23</td>\n",
       "    </tr>\n",
       "    <tr>\n",
       "      <th>1</th>\n",
       "      <td>https://www.huffpost.com/entry/american-airlin...</td>\n",
       "      <td>American Airlines Flyer Charged, Banned For Li...</td>\n",
       "      <td>U.S. NEWS</td>\n",
       "      <td>He was subdued by passengers and crew when he ...</td>\n",
       "      <td>Mary Papenfuss</td>\n",
       "      <td>2022-09-23</td>\n",
       "    </tr>\n",
       "    <tr>\n",
       "      <th>2</th>\n",
       "      <td>https://www.huffpost.com/entry/funniest-tweets...</td>\n",
       "      <td>23 Of The Funniest Tweets About Cats And Dogs ...</td>\n",
       "      <td>COMEDY</td>\n",
       "      <td>\"Until you have a dog you don't understand wha...</td>\n",
       "      <td>Elyse Wanshel</td>\n",
       "      <td>2022-09-23</td>\n",
       "    </tr>\n",
       "    <tr>\n",
       "      <th>3</th>\n",
       "      <td>https://www.huffpost.com/entry/funniest-parent...</td>\n",
       "      <td>The Funniest Tweets From Parents This Week (Se...</td>\n",
       "      <td>PARENTING</td>\n",
       "      <td>\"Accidentally put grown-up toothpaste on my to...</td>\n",
       "      <td>Caroline Bologna</td>\n",
       "      <td>2022-09-23</td>\n",
       "    </tr>\n",
       "    <tr>\n",
       "      <th>4</th>\n",
       "      <td>https://www.huffpost.com/entry/amy-cooper-lose...</td>\n",
       "      <td>Woman Who Called Cops On Black Bird-Watcher Lo...</td>\n",
       "      <td>U.S. NEWS</td>\n",
       "      <td>Amy Cooper accused investment firm Franklin Te...</td>\n",
       "      <td>Nina Golgowski</td>\n",
       "      <td>2022-09-22</td>\n",
       "    </tr>\n",
       "  </tbody>\n",
       "</table>\n",
       "</div>"
      ],
      "text/plain": [
       "                                                link  \\\n",
       "0  https://www.huffpost.com/entry/covid-boosters-...   \n",
       "1  https://www.huffpost.com/entry/american-airlin...   \n",
       "2  https://www.huffpost.com/entry/funniest-tweets...   \n",
       "3  https://www.huffpost.com/entry/funniest-parent...   \n",
       "4  https://www.huffpost.com/entry/amy-cooper-lose...   \n",
       "\n",
       "                                            headline   category  \\\n",
       "0  Over 4 Million Americans Roll Up Sleeves For O...  U.S. NEWS   \n",
       "1  American Airlines Flyer Charged, Banned For Li...  U.S. NEWS   \n",
       "2  23 Of The Funniest Tweets About Cats And Dogs ...     COMEDY   \n",
       "3  The Funniest Tweets From Parents This Week (Se...  PARENTING   \n",
       "4  Woman Who Called Cops On Black Bird-Watcher Lo...  U.S. NEWS   \n",
       "\n",
       "                                   short_description               authors  \\\n",
       "0  Health experts said it is too early to predict...  Carla K. Johnson, AP   \n",
       "1  He was subdued by passengers and crew when he ...        Mary Papenfuss   \n",
       "2  \"Until you have a dog you don't understand wha...         Elyse Wanshel   \n",
       "3  \"Accidentally put grown-up toothpaste on my to...      Caroline Bologna   \n",
       "4  Amy Cooper accused investment firm Franklin Te...        Nina Golgowski   \n",
       "\n",
       "        date  \n",
       "0 2022-09-23  \n",
       "1 2022-09-23  \n",
       "2 2022-09-23  \n",
       "3 2022-09-23  \n",
       "4 2022-09-22  "
      ]
     },
     "execution_count": 5,
     "metadata": {},
     "output_type": "execute_result"
    }
   ],
   "source": [
    "news_category.head()"
   ]
  },
  {
   "cell_type": "code",
   "execution_count": 6,
   "id": "f6a00ed9",
   "metadata": {},
   "outputs": [
    {
     "data": {
      "text/plain": [
       "(209527, 6)"
      ]
     },
     "execution_count": 6,
     "metadata": {},
     "output_type": "execute_result"
    }
   ],
   "source": [
    "news_category.shape"
   ]
  },
  {
   "cell_type": "markdown",
   "id": "bcf5f27f",
   "metadata": {},
   "source": [
    "So, 6 columns, and 209527 are rows in this dataset"
   ]
  },
  {
   "cell_type": "code",
   "execution_count": 7,
   "id": "43907276",
   "metadata": {},
   "outputs": [
    {
     "name": "stdout",
     "output_type": "stream",
     "text": [
      "<class 'pandas.core.frame.DataFrame'>\n",
      "RangeIndex: 209527 entries, 0 to 209526\n",
      "Data columns (total 6 columns):\n",
      " #   Column             Non-Null Count   Dtype         \n",
      "---  ------             --------------   -----         \n",
      " 0   link               209527 non-null  object        \n",
      " 1   headline           209527 non-null  object        \n",
      " 2   category           209527 non-null  object        \n",
      " 3   short_description  209527 non-null  object        \n",
      " 4   authors            209527 non-null  object        \n",
      " 5   date               209527 non-null  datetime64[ns]\n",
      "dtypes: datetime64[ns](1), object(5)\n",
      "memory usage: 9.6+ MB\n"
     ]
    }
   ],
   "source": [
    "news_category.info()"
   ]
  },
  {
   "cell_type": "markdown",
   "id": "babb8884",
   "metadata": {},
   "source": [
    "<b>A benefit here of the dataset is the date column is alredy in the datetime64 format, otherwise it would have to be converted in to this format.\n",
    "So, this is the good thing of this dataset.</b>"
   ]
  },
  {
   "cell_type": "code",
   "execution_count": 8,
   "id": "071f954c",
   "metadata": {},
   "outputs": [
    {
     "data": {
      "text/plain": [
       "POLITICS          35602\n",
       "WELLNESS          17945\n",
       "ENTERTAINMENT     17362\n",
       "TRAVEL             9900\n",
       "STYLE & BEAUTY     9814\n",
       "PARENTING          8791\n",
       "HEALTHY LIVING     6694\n",
       "QUEER VOICES       6347\n",
       "FOOD & DRINK       6340\n",
       "BUSINESS           5992\n",
       "COMEDY             5400\n",
       "SPORTS             5077\n",
       "BLACK VOICES       4583\n",
       "HOME & LIVING      4320\n",
       "PARENTS            3955\n",
       "THE WORLDPOST      3664\n",
       "WEDDINGS           3653\n",
       "WOMEN              3572\n",
       "CRIME              3562\n",
       "IMPACT             3484\n",
       "DIVORCE            3426\n",
       "WORLD NEWS         3299\n",
       "MEDIA              2944\n",
       "WEIRD NEWS         2777\n",
       "GREEN              2622\n",
       "WORLDPOST          2579\n",
       "RELIGION           2577\n",
       "STYLE              2254\n",
       "SCIENCE            2206\n",
       "TECH               2104\n",
       "TASTE              2096\n",
       "MONEY              1756\n",
       "ARTS               1509\n",
       "ENVIRONMENT        1444\n",
       "FIFTY              1401\n",
       "GOOD NEWS          1398\n",
       "U.S. NEWS          1377\n",
       "ARTS & CULTURE     1339\n",
       "COLLEGE            1144\n",
       "LATINO VOICES      1130\n",
       "CULTURE & ARTS     1074\n",
       "EDUCATION          1014\n",
       "Name: category, dtype: int64"
      ]
     },
     "execution_count": 8,
     "metadata": {},
     "output_type": "execute_result"
    }
   ],
   "source": [
    "news_category['category'].value_counts()"
   ]
  },
  {
   "cell_type": "markdown",
   "id": "88b39fec",
   "metadata": {},
   "source": [
    "These are the total categories in this dataset. Also there are <b>counts of differnt categories.</b>"
   ]
  },
  {
   "cell_type": "code",
   "execution_count": 9,
   "id": "f9aced0a",
   "metadata": {},
   "outputs": [
    {
     "data": {
      "text/plain": [
       "array(['U.S. NEWS', 'COMEDY', 'PARENTING', 'WORLD NEWS', 'CULTURE & ARTS',\n",
       "       'TECH', 'SPORTS', 'ENTERTAINMENT', 'POLITICS', 'WEIRD NEWS',\n",
       "       'ENVIRONMENT', 'EDUCATION', 'CRIME', 'SCIENCE', 'WELLNESS',\n",
       "       'BUSINESS', 'STYLE & BEAUTY', 'FOOD & DRINK', 'MEDIA',\n",
       "       'QUEER VOICES', 'HOME & LIVING', 'WOMEN', 'BLACK VOICES', 'TRAVEL',\n",
       "       'MONEY', 'RELIGION', 'LATINO VOICES', 'IMPACT', 'WEDDINGS',\n",
       "       'COLLEGE', 'PARENTS', 'ARTS & CULTURE', 'STYLE', 'GREEN', 'TASTE',\n",
       "       'HEALTHY LIVING', 'THE WORLDPOST', 'GOOD NEWS', 'WORLDPOST',\n",
       "       'FIFTY', 'ARTS', 'DIVORCE'], dtype=object)"
      ]
     },
     "execution_count": 9,
     "metadata": {},
     "output_type": "execute_result"
    }
   ],
   "source": [
    "cat_id = news_category['category'].unique()\n",
    "cat_id"
   ]
  },
  {
   "cell_type": "markdown",
   "id": "321184ce",
   "metadata": {},
   "source": [
    "These are names of all <b>unique categories</b> in the dataset."
   ]
  },
  {
   "cell_type": "code",
   "execution_count": 10,
   "id": "040a7f0f",
   "metadata": {},
   "outputs": [
    {
     "data": {
      "text/plain": [
       "42"
      ]
     },
     "execution_count": 10,
     "metadata": {},
     "output_type": "execute_result"
    }
   ],
   "source": [
    "news_category['category'].nunique()"
   ]
  },
  {
   "cell_type": "code",
   "execution_count": 11,
   "id": "f6ed2739",
   "metadata": {},
   "outputs": [
    {
     "data": {
      "text/plain": [
       "90"
      ]
     },
     "execution_count": 11,
     "metadata": {},
     "output_type": "execute_result"
    }
   ],
   "source": [
    "gc.collect()"
   ]
  },
  {
   "cell_type": "markdown",
   "id": "812d7f03",
   "metadata": {},
   "source": [
    "There are total <b>42 unique categories</b> in this dataset."
   ]
  },
  {
   "cell_type": "code",
   "execution_count": 12,
   "id": "28106bf8",
   "metadata": {},
   "outputs": [
    {
     "data": {
      "text/plain": [
       "array(['2022-09-23T00:00:00.000000000', '2022-09-22T00:00:00.000000000',\n",
       "       '2022-09-21T00:00:00.000000000', ...,\n",
       "       '2012-01-30T00:00:00.000000000', '2012-01-29T00:00:00.000000000',\n",
       "       '2012-01-28T00:00:00.000000000'], dtype='datetime64[ns]')"
      ]
     },
     "execution_count": 12,
     "metadata": {},
     "output_type": "execute_result"
    }
   ],
   "source": [
    "date = news_category['date'].unique()\n",
    "date"
   ]
  },
  {
   "cell_type": "code",
   "execution_count": 13,
   "id": "88a9eeb6",
   "metadata": {},
   "outputs": [
    {
     "data": {
      "text/plain": [
       "3890"
      ]
     },
     "execution_count": 13,
     "metadata": {},
     "output_type": "execute_result"
    }
   ],
   "source": [
    "news_category['date'].nunique()"
   ]
  },
  {
   "cell_type": "code",
   "execution_count": 14,
   "id": "ac6ddd75",
   "metadata": {},
   "outputs": [],
   "source": [
    "from datetime import datetime\n",
    "year = news_category[((news_category['date'].dt.year==2012) | (news_category[\"date\"].dt.year==2022))]"
   ]
  },
  {
   "cell_type": "code",
   "execution_count": 15,
   "id": "2b59c169",
   "metadata": {},
   "outputs": [
    {
     "data": {
      "text/html": [
       "<div>\n",
       "<style scoped>\n",
       "    .dataframe tbody tr th:only-of-type {\n",
       "        vertical-align: middle;\n",
       "    }\n",
       "\n",
       "    .dataframe tbody tr th {\n",
       "        vertical-align: top;\n",
       "    }\n",
       "\n",
       "    .dataframe thead th {\n",
       "        text-align: right;\n",
       "    }\n",
       "</style>\n",
       "<table border=\"1\" class=\"dataframe\">\n",
       "  <thead>\n",
       "    <tr style=\"text-align: right;\">\n",
       "      <th></th>\n",
       "      <th>link</th>\n",
       "      <th>headline</th>\n",
       "      <th>category</th>\n",
       "      <th>short_description</th>\n",
       "      <th>authors</th>\n",
       "      <th>date</th>\n",
       "    </tr>\n",
       "  </thead>\n",
       "  <tbody>\n",
       "    <tr>\n",
       "      <th>0</th>\n",
       "      <td>https://www.huffpost.com/entry/covid-boosters-...</td>\n",
       "      <td>Over 4 Million Americans Roll Up Sleeves For O...</td>\n",
       "      <td>U.S. NEWS</td>\n",
       "      <td>Health experts said it is too early to predict...</td>\n",
       "      <td>Carla K. Johnson, AP</td>\n",
       "      <td>2022-09-23</td>\n",
       "    </tr>\n",
       "    <tr>\n",
       "      <th>1</th>\n",
       "      <td>https://www.huffpost.com/entry/american-airlin...</td>\n",
       "      <td>American Airlines Flyer Charged, Banned For Li...</td>\n",
       "      <td>U.S. NEWS</td>\n",
       "      <td>He was subdued by passengers and crew when he ...</td>\n",
       "      <td>Mary Papenfuss</td>\n",
       "      <td>2022-09-23</td>\n",
       "    </tr>\n",
       "    <tr>\n",
       "      <th>2</th>\n",
       "      <td>https://www.huffpost.com/entry/funniest-tweets...</td>\n",
       "      <td>23 Of The Funniest Tweets About Cats And Dogs ...</td>\n",
       "      <td>COMEDY</td>\n",
       "      <td>\"Until you have a dog you don't understand wha...</td>\n",
       "      <td>Elyse Wanshel</td>\n",
       "      <td>2022-09-23</td>\n",
       "    </tr>\n",
       "    <tr>\n",
       "      <th>3</th>\n",
       "      <td>https://www.huffpost.com/entry/funniest-parent...</td>\n",
       "      <td>The Funniest Tweets From Parents This Week (Se...</td>\n",
       "      <td>PARENTING</td>\n",
       "      <td>\"Accidentally put grown-up toothpaste on my to...</td>\n",
       "      <td>Caroline Bologna</td>\n",
       "      <td>2022-09-23</td>\n",
       "    </tr>\n",
       "    <tr>\n",
       "      <th>4</th>\n",
       "      <td>https://www.huffpost.com/entry/amy-cooper-lose...</td>\n",
       "      <td>Woman Who Called Cops On Black Bird-Watcher Lo...</td>\n",
       "      <td>U.S. NEWS</td>\n",
       "      <td>Amy Cooper accused investment firm Franklin Te...</td>\n",
       "      <td>Nina Golgowski</td>\n",
       "      <td>2022-09-22</td>\n",
       "    </tr>\n",
       "  </tbody>\n",
       "</table>\n",
       "</div>"
      ],
      "text/plain": [
       "                                                link  \\\n",
       "0  https://www.huffpost.com/entry/covid-boosters-...   \n",
       "1  https://www.huffpost.com/entry/american-airlin...   \n",
       "2  https://www.huffpost.com/entry/funniest-tweets...   \n",
       "3  https://www.huffpost.com/entry/funniest-parent...   \n",
       "4  https://www.huffpost.com/entry/amy-cooper-lose...   \n",
       "\n",
       "                                            headline   category  \\\n",
       "0  Over 4 Million Americans Roll Up Sleeves For O...  U.S. NEWS   \n",
       "1  American Airlines Flyer Charged, Banned For Li...  U.S. NEWS   \n",
       "2  23 Of The Funniest Tweets About Cats And Dogs ...     COMEDY   \n",
       "3  The Funniest Tweets From Parents This Week (Se...  PARENTING   \n",
       "4  Woman Who Called Cops On Black Bird-Watcher Lo...  U.S. NEWS   \n",
       "\n",
       "                                   short_description               authors  \\\n",
       "0  Health experts said it is too early to predict...  Carla K. Johnson, AP   \n",
       "1  He was subdued by passengers and crew when he ...        Mary Papenfuss   \n",
       "2  \"Until you have a dog you don't understand wha...         Elyse Wanshel   \n",
       "3  \"Accidentally put grown-up toothpaste on my to...      Caroline Bologna   \n",
       "4  Amy Cooper accused investment firm Franklin Te...        Nina Golgowski   \n",
       "\n",
       "        date  \n",
       "0 2022-09-23  \n",
       "1 2022-09-23  \n",
       "2 2022-09-23  \n",
       "3 2022-09-23  \n",
       "4 2022-09-22  "
      ]
     },
     "execution_count": 15,
     "metadata": {},
     "output_type": "execute_result"
    }
   ],
   "source": [
    "year.head()"
   ]
  },
  {
   "cell_type": "code",
   "execution_count": 16,
   "id": "b4127e23",
   "metadata": {},
   "outputs": [],
   "source": [
    "news_category['category_id'] = news_category.groupby(['category']).ngroup()"
   ]
  },
  {
   "cell_type": "code",
   "execution_count": 17,
   "id": "b3b174bf",
   "metadata": {},
   "outputs": [
    {
     "data": {
      "text/html": [
       "<div>\n",
       "<style scoped>\n",
       "    .dataframe tbody tr th:only-of-type {\n",
       "        vertical-align: middle;\n",
       "    }\n",
       "\n",
       "    .dataframe tbody tr th {\n",
       "        vertical-align: top;\n",
       "    }\n",
       "\n",
       "    .dataframe thead th {\n",
       "        text-align: right;\n",
       "    }\n",
       "</style>\n",
       "<table border=\"1\" class=\"dataframe\">\n",
       "  <thead>\n",
       "    <tr style=\"text-align: right;\">\n",
       "      <th></th>\n",
       "      <th>link</th>\n",
       "      <th>headline</th>\n",
       "      <th>category</th>\n",
       "      <th>short_description</th>\n",
       "      <th>authors</th>\n",
       "      <th>date</th>\n",
       "      <th>category_id</th>\n",
       "    </tr>\n",
       "  </thead>\n",
       "  <tbody>\n",
       "    <tr>\n",
       "      <th>0</th>\n",
       "      <td>https://www.huffpost.com/entry/covid-boosters-...</td>\n",
       "      <td>Over 4 Million Americans Roll Up Sleeves For O...</td>\n",
       "      <td>U.S. NEWS</td>\n",
       "      <td>Health experts said it is too early to predict...</td>\n",
       "      <td>Carla K. Johnson, AP</td>\n",
       "      <td>2022-09-23</td>\n",
       "      <td>35</td>\n",
       "    </tr>\n",
       "    <tr>\n",
       "      <th>1</th>\n",
       "      <td>https://www.huffpost.com/entry/american-airlin...</td>\n",
       "      <td>American Airlines Flyer Charged, Banned For Li...</td>\n",
       "      <td>U.S. NEWS</td>\n",
       "      <td>He was subdued by passengers and crew when he ...</td>\n",
       "      <td>Mary Papenfuss</td>\n",
       "      <td>2022-09-23</td>\n",
       "      <td>35</td>\n",
       "    </tr>\n",
       "    <tr>\n",
       "      <th>2</th>\n",
       "      <td>https://www.huffpost.com/entry/funniest-tweets...</td>\n",
       "      <td>23 Of The Funniest Tweets About Cats And Dogs ...</td>\n",
       "      <td>COMEDY</td>\n",
       "      <td>\"Until you have a dog you don't understand wha...</td>\n",
       "      <td>Elyse Wanshel</td>\n",
       "      <td>2022-09-23</td>\n",
       "      <td>5</td>\n",
       "    </tr>\n",
       "    <tr>\n",
       "      <th>3</th>\n",
       "      <td>https://www.huffpost.com/entry/funniest-parent...</td>\n",
       "      <td>The Funniest Tweets From Parents This Week (Se...</td>\n",
       "      <td>PARENTING</td>\n",
       "      <td>\"Accidentally put grown-up toothpaste on my to...</td>\n",
       "      <td>Caroline Bologna</td>\n",
       "      <td>2022-09-23</td>\n",
       "      <td>22</td>\n",
       "    </tr>\n",
       "    <tr>\n",
       "      <th>4</th>\n",
       "      <td>https://www.huffpost.com/entry/amy-cooper-lose...</td>\n",
       "      <td>Woman Who Called Cops On Black Bird-Watcher Lo...</td>\n",
       "      <td>U.S. NEWS</td>\n",
       "      <td>Amy Cooper accused investment firm Franklin Te...</td>\n",
       "      <td>Nina Golgowski</td>\n",
       "      <td>2022-09-22</td>\n",
       "      <td>35</td>\n",
       "    </tr>\n",
       "  </tbody>\n",
       "</table>\n",
       "</div>"
      ],
      "text/plain": [
       "                                                link  \\\n",
       "0  https://www.huffpost.com/entry/covid-boosters-...   \n",
       "1  https://www.huffpost.com/entry/american-airlin...   \n",
       "2  https://www.huffpost.com/entry/funniest-tweets...   \n",
       "3  https://www.huffpost.com/entry/funniest-parent...   \n",
       "4  https://www.huffpost.com/entry/amy-cooper-lose...   \n",
       "\n",
       "                                            headline   category  \\\n",
       "0  Over 4 Million Americans Roll Up Sleeves For O...  U.S. NEWS   \n",
       "1  American Airlines Flyer Charged, Banned For Li...  U.S. NEWS   \n",
       "2  23 Of The Funniest Tweets About Cats And Dogs ...     COMEDY   \n",
       "3  The Funniest Tweets From Parents This Week (Se...  PARENTING   \n",
       "4  Woman Who Called Cops On Black Bird-Watcher Lo...  U.S. NEWS   \n",
       "\n",
       "                                   short_description               authors  \\\n",
       "0  Health experts said it is too early to predict...  Carla K. Johnson, AP   \n",
       "1  He was subdued by passengers and crew when he ...        Mary Papenfuss   \n",
       "2  \"Until you have a dog you don't understand wha...         Elyse Wanshel   \n",
       "3  \"Accidentally put grown-up toothpaste on my to...      Caroline Bologna   \n",
       "4  Amy Cooper accused investment firm Franklin Te...        Nina Golgowski   \n",
       "\n",
       "        date  category_id  \n",
       "0 2022-09-23           35  \n",
       "1 2022-09-23           35  \n",
       "2 2022-09-23            5  \n",
       "3 2022-09-23           22  \n",
       "4 2022-09-22           35  "
      ]
     },
     "execution_count": 17,
     "metadata": {},
     "output_type": "execute_result"
    }
   ],
   "source": [
    "news_category.head()"
   ]
  },
  {
   "cell_type": "code",
   "execution_count": 18,
   "id": "1fb537bd",
   "metadata": {},
   "outputs": [
    {
     "name": "stdout",
     "output_type": "stream",
     "text": [
      "<class 'pandas.core.frame.DataFrame'>\n",
      "RangeIndex: 209527 entries, 0 to 209526\n",
      "Data columns (total 7 columns):\n",
      " #   Column             Non-Null Count   Dtype         \n",
      "---  ------             --------------   -----         \n",
      " 0   link               209527 non-null  object        \n",
      " 1   headline           209527 non-null  object        \n",
      " 2   category           209527 non-null  object        \n",
      " 3   short_description  209527 non-null  object        \n",
      " 4   authors            209527 non-null  object        \n",
      " 5   date               209527 non-null  datetime64[ns]\n",
      " 6   category_id        209527 non-null  int64         \n",
      "dtypes: datetime64[ns](1), int64(1), object(5)\n",
      "memory usage: 11.2+ MB\n"
     ]
    }
   ],
   "source": [
    "news_category.info()"
   ]
  },
  {
   "cell_type": "code",
   "execution_count": 19,
   "id": "09d03812",
   "metadata": {},
   "outputs": [
    {
     "data": {
      "text/plain": [
       "array([35,  5, 22, 40,  7, 32, 28, 10, 24, 37, 11,  9,  6, 27, 38,  3, 30,\n",
       "       13, 20, 25, 17, 39,  2, 34, 21, 26, 19, 18, 36,  4, 23,  1, 29, 15,\n",
       "       31, 16, 33, 14, 41, 12,  0,  8], dtype=int64)"
      ]
     },
     "execution_count": 19,
     "metadata": {},
     "output_type": "execute_result"
    }
   ],
   "source": [
    "news_category['category_id'].unique()"
   ]
  },
  {
   "cell_type": "code",
   "execution_count": 20,
   "id": "bc2c5139",
   "metadata": {},
   "outputs": [
    {
     "data": {
      "text/plain": [
       "42"
      ]
     },
     "execution_count": 20,
     "metadata": {},
     "output_type": "execute_result"
    }
   ],
   "source": [
    "news_category['category_id'].nunique()"
   ]
  },
  {
   "cell_type": "code",
   "execution_count": 21,
   "id": "722ec6b7",
   "metadata": {},
   "outputs": [],
   "source": [
    "cat = news_category[['category', 'category_id']].drop_duplicates().sort_values('category_id')"
   ]
  },
  {
   "cell_type": "code",
   "execution_count": 22,
   "id": "942555ef",
   "metadata": {},
   "outputs": [
    {
     "data": {
      "text/html": [
       "<div>\n",
       "<style scoped>\n",
       "    .dataframe tbody tr th:only-of-type {\n",
       "        vertical-align: middle;\n",
       "    }\n",
       "\n",
       "    .dataframe tbody tr th {\n",
       "        vertical-align: top;\n",
       "    }\n",
       "\n",
       "    .dataframe thead th {\n",
       "        text-align: right;\n",
       "    }\n",
       "</style>\n",
       "<table border=\"1\" class=\"dataframe\">\n",
       "  <thead>\n",
       "    <tr style=\"text-align: right;\">\n",
       "      <th></th>\n",
       "      <th>category</th>\n",
       "      <th>category_id</th>\n",
       "    </tr>\n",
       "  </thead>\n",
       "  <tbody>\n",
       "    <tr>\n",
       "      <th>44677</th>\n",
       "      <td>ARTS</td>\n",
       "      <td>0</td>\n",
       "    </tr>\n",
       "    <tr>\n",
       "      <th>15389</th>\n",
       "      <td>ARTS &amp; CULTURE</td>\n",
       "      <td>1</td>\n",
       "    </tr>\n",
       "    <tr>\n",
       "      <th>455</th>\n",
       "      <td>BLACK VOICES</td>\n",
       "      <td>2</td>\n",
       "    </tr>\n",
       "    <tr>\n",
       "      <th>162</th>\n",
       "      <td>BUSINESS</td>\n",
       "      <td>3</td>\n",
       "    </tr>\n",
       "    <tr>\n",
       "      <th>14783</th>\n",
       "      <td>COLLEGE</td>\n",
       "      <td>4</td>\n",
       "    </tr>\n",
       "    <tr>\n",
       "      <th>2</th>\n",
       "      <td>COMEDY</td>\n",
       "      <td>5</td>\n",
       "    </tr>\n",
       "    <tr>\n",
       "      <th>107</th>\n",
       "      <td>CRIME</td>\n",
       "      <td>6</td>\n",
       "    </tr>\n",
       "    <tr>\n",
       "      <th>8</th>\n",
       "      <td>CULTURE &amp; ARTS</td>\n",
       "      <td>7</td>\n",
       "    </tr>\n",
       "    <tr>\n",
       "      <th>133683</th>\n",
       "      <td>DIVORCE</td>\n",
       "      <td>8</td>\n",
       "    </tr>\n",
       "    <tr>\n",
       "      <th>94</th>\n",
       "      <td>EDUCATION</td>\n",
       "      <td>9</td>\n",
       "    </tr>\n",
       "    <tr>\n",
       "      <th>20</th>\n",
       "      <td>ENTERTAINMENT</td>\n",
       "      <td>10</td>\n",
       "    </tr>\n",
       "    <tr>\n",
       "      <th>32</th>\n",
       "      <td>ENVIRONMENT</td>\n",
       "      <td>11</td>\n",
       "    </tr>\n",
       "    <tr>\n",
       "      <th>43952</th>\n",
       "      <td>FIFTY</td>\n",
       "      <td>12</td>\n",
       "    </tr>\n",
       "    <tr>\n",
       "      <th>280</th>\n",
       "      <td>FOOD &amp; DRINK</td>\n",
       "      <td>13</td>\n",
       "    </tr>\n",
       "    <tr>\n",
       "      <th>28033</th>\n",
       "      <td>GOOD NEWS</td>\n",
       "      <td>14</td>\n",
       "    </tr>\n",
       "    <tr>\n",
       "      <th>16081</th>\n",
       "      <td>GREEN</td>\n",
       "      <td>15</td>\n",
       "    </tr>\n",
       "    <tr>\n",
       "      <th>16252</th>\n",
       "      <td>HEALTHY LIVING</td>\n",
       "      <td>16</td>\n",
       "    </tr>\n",
       "    <tr>\n",
       "      <th>394</th>\n",
       "      <td>HOME &amp; LIVING</td>\n",
       "      <td>17</td>\n",
       "    </tr>\n",
       "    <tr>\n",
       "      <th>3834</th>\n",
       "      <td>IMPACT</td>\n",
       "      <td>18</td>\n",
       "    </tr>\n",
       "    <tr>\n",
       "      <th>2880</th>\n",
       "      <td>LATINO VOICES</td>\n",
       "      <td>19</td>\n",
       "    </tr>\n",
       "    <tr>\n",
       "      <th>319</th>\n",
       "      <td>MEDIA</td>\n",
       "      <td>20</td>\n",
       "    </tr>\n",
       "    <tr>\n",
       "      <th>1796</th>\n",
       "      <td>MONEY</td>\n",
       "      <td>21</td>\n",
       "    </tr>\n",
       "    <tr>\n",
       "      <th>3</th>\n",
       "      <td>PARENTING</td>\n",
       "      <td>22</td>\n",
       "    </tr>\n",
       "    <tr>\n",
       "      <th>14868</th>\n",
       "      <td>PARENTS</td>\n",
       "      <td>23</td>\n",
       "    </tr>\n",
       "    <tr>\n",
       "      <th>21</th>\n",
       "      <td>POLITICS</td>\n",
       "      <td>24</td>\n",
       "    </tr>\n",
       "    <tr>\n",
       "      <th>340</th>\n",
       "      <td>QUEER VOICES</td>\n",
       "      <td>25</td>\n",
       "    </tr>\n",
       "    <tr>\n",
       "      <th>1861</th>\n",
       "      <td>RELIGION</td>\n",
       "      <td>26</td>\n",
       "    </tr>\n",
       "    <tr>\n",
       "      <th>114</th>\n",
       "      <td>SCIENCE</td>\n",
       "      <td>27</td>\n",
       "    </tr>\n",
       "    <tr>\n",
       "      <th>17</th>\n",
       "      <td>SPORTS</td>\n",
       "      <td>28</td>\n",
       "    </tr>\n",
       "    <tr>\n",
       "      <th>15967</th>\n",
       "      <td>STYLE</td>\n",
       "      <td>29</td>\n",
       "    </tr>\n",
       "    <tr>\n",
       "      <th>260</th>\n",
       "      <td>STYLE &amp; BEAUTY</td>\n",
       "      <td>30</td>\n",
       "    </tr>\n",
       "    <tr>\n",
       "      <th>16173</th>\n",
       "      <td>TASTE</td>\n",
       "      <td>31</td>\n",
       "    </tr>\n",
       "    <tr>\n",
       "      <th>13</th>\n",
       "      <td>TECH</td>\n",
       "      <td>32</td>\n",
       "    </tr>\n",
       "    <tr>\n",
       "      <th>22902</th>\n",
       "      <td>THE WORLDPOST</td>\n",
       "      <td>33</td>\n",
       "    </tr>\n",
       "    <tr>\n",
       "      <th>892</th>\n",
       "      <td>TRAVEL</td>\n",
       "      <td>34</td>\n",
       "    </tr>\n",
       "    <tr>\n",
       "      <th>0</th>\n",
       "      <td>U.S. NEWS</td>\n",
       "      <td>35</td>\n",
       "    </tr>\n",
       "    <tr>\n",
       "      <th>5928</th>\n",
       "      <td>WEDDINGS</td>\n",
       "      <td>36</td>\n",
       "    </tr>\n",
       "    <tr>\n",
       "      <th>29</th>\n",
       "      <td>WEIRD NEWS</td>\n",
       "      <td>37</td>\n",
       "    </tr>\n",
       "    <tr>\n",
       "      <th>134</th>\n",
       "      <td>WELLNESS</td>\n",
       "      <td>38</td>\n",
       "    </tr>\n",
       "    <tr>\n",
       "      <th>439</th>\n",
       "      <td>WOMEN</td>\n",
       "      <td>39</td>\n",
       "    </tr>\n",
       "    <tr>\n",
       "      <th>7</th>\n",
       "      <td>WORLD NEWS</td>\n",
       "      <td>40</td>\n",
       "    </tr>\n",
       "    <tr>\n",
       "      <th>43296</th>\n",
       "      <td>WORLDPOST</td>\n",
       "      <td>41</td>\n",
       "    </tr>\n",
       "  </tbody>\n",
       "</table>\n",
       "</div>"
      ],
      "text/plain": [
       "              category  category_id\n",
       "44677             ARTS            0\n",
       "15389   ARTS & CULTURE            1\n",
       "455       BLACK VOICES            2\n",
       "162           BUSINESS            3\n",
       "14783          COLLEGE            4\n",
       "2               COMEDY            5\n",
       "107              CRIME            6\n",
       "8       CULTURE & ARTS            7\n",
       "133683         DIVORCE            8\n",
       "94           EDUCATION            9\n",
       "20       ENTERTAINMENT           10\n",
       "32         ENVIRONMENT           11\n",
       "43952            FIFTY           12\n",
       "280       FOOD & DRINK           13\n",
       "28033        GOOD NEWS           14\n",
       "16081            GREEN           15\n",
       "16252   HEALTHY LIVING           16\n",
       "394      HOME & LIVING           17\n",
       "3834            IMPACT           18\n",
       "2880     LATINO VOICES           19\n",
       "319              MEDIA           20\n",
       "1796             MONEY           21\n",
       "3            PARENTING           22\n",
       "14868          PARENTS           23\n",
       "21            POLITICS           24\n",
       "340       QUEER VOICES           25\n",
       "1861          RELIGION           26\n",
       "114            SCIENCE           27\n",
       "17              SPORTS           28\n",
       "15967            STYLE           29\n",
       "260     STYLE & BEAUTY           30\n",
       "16173            TASTE           31\n",
       "13                TECH           32\n",
       "22902    THE WORLDPOST           33\n",
       "892             TRAVEL           34\n",
       "0            U.S. NEWS           35\n",
       "5928          WEDDINGS           36\n",
       "29          WEIRD NEWS           37\n",
       "134           WELLNESS           38\n",
       "439              WOMEN           39\n",
       "7           WORLD NEWS           40\n",
       "43296        WORLDPOST           41"
      ]
     },
     "execution_count": 22,
     "metadata": {},
     "output_type": "execute_result"
    }
   ],
   "source": [
    "cat"
   ]
  },
  {
   "cell_type": "code",
   "execution_count": 23,
   "id": "e075ee3b",
   "metadata": {},
   "outputs": [],
   "source": [
    "import seaborn as sns"
   ]
  },
  {
   "cell_type": "code",
   "execution_count": 24,
   "id": "b2c60bff",
   "metadata": {},
   "outputs": [
    {
     "data": {
      "text/plain": [
       "category\n",
       "ARTS               1509\n",
       "ARTS & CULTURE     1339\n",
       "BLACK VOICES       4583\n",
       "BUSINESS           5992\n",
       "COLLEGE            1144\n",
       "COMEDY             5400\n",
       "CRIME              3562\n",
       "CULTURE & ARTS     1074\n",
       "DIVORCE            3426\n",
       "EDUCATION          1014\n",
       "ENTERTAINMENT     17362\n",
       "ENVIRONMENT        1444\n",
       "FIFTY              1401\n",
       "FOOD & DRINK       6340\n",
       "GOOD NEWS          1398\n",
       "GREEN              2622\n",
       "HEALTHY LIVING     6694\n",
       "HOME & LIVING      4320\n",
       "IMPACT             3484\n",
       "LATINO VOICES      1130\n",
       "MEDIA              2944\n",
       "MONEY              1756\n",
       "PARENTING          8791\n",
       "PARENTS            3955\n",
       "POLITICS          35602\n",
       "QUEER VOICES       6347\n",
       "RELIGION           2577\n",
       "SCIENCE            2206\n",
       "SPORTS             5077\n",
       "STYLE              2254\n",
       "STYLE & BEAUTY     9814\n",
       "TASTE              2096\n",
       "TECH               2104\n",
       "THE WORLDPOST      3664\n",
       "TRAVEL             9900\n",
       "U.S. NEWS          1377\n",
       "WEDDINGS           3653\n",
       "WEIRD NEWS         2777\n",
       "WELLNESS          17945\n",
       "WOMEN              3572\n",
       "WORLD NEWS         3299\n",
       "WORLDPOST          2579\n",
       "Name: category, dtype: int64"
      ]
     },
     "execution_count": 24,
     "metadata": {},
     "output_type": "execute_result"
    }
   ],
   "source": [
    "data = news_category.groupby('category')['category'].count() \n",
    "data"
   ]
  },
  {
   "cell_type": "markdown",
   "id": "b9f59616",
   "metadata": {},
   "source": [
    "Exploratory Data Analysis <b>(EDA)</b>"
   ]
  },
  {
   "cell_type": "code",
   "execution_count": 25,
   "id": "f00c60fc",
   "metadata": {},
   "outputs": [
    {
     "data": {
      "image/png": "[encoded data removed]",
      "text/plain": [
       "<Figure size 1080x576 with 1 Axes>"
      ]
     },
     "metadata": {
      "needs_background": "light"
     },
     "output_type": "display_data"
    }
   ],
   "source": [
    "plt.figure(figsize=(15,8))\n",
    "sns.barplot(y= data.values, x= data.index)\n",
    "plt.xlabel('Categories', fontsize='large')\n",
    "plt.ylabel('Counts of Categories', fontsize='large')\n",
    "plt.title('Total Categories of News from 2012 to 2022', fontsize='large')\n",
    "plt.xticks(rotation=90)\n",
    "plt.show()"
   ]
  },
  {
   "cell_type": "code",
   "execution_count": 26,
   "id": "213b07c0",
   "metadata": {},
   "outputs": [
    {
     "data": {
      "text/plain": [
       "date\n",
       "2012-01-28     66\n",
       "2012-01-29     65\n",
       "2012-01-30    100\n",
       "2012-01-31    100\n",
       "2012-02-01    100\n",
       "             ... \n",
       "2022-09-19      6\n",
       "2022-09-20      6\n",
       "2022-09-21      6\n",
       "2022-09-22      5\n",
       "2022-09-23      4\n",
       "Name: date, Length: 3890, dtype: int64"
      ]
     },
     "execution_count": 26,
     "metadata": {},
     "output_type": "execute_result"
    }
   ],
   "source": [
    "date = news_category.groupby('date')['date'].count() \n",
    "date"
   ]
  },
  {
   "cell_type": "code",
   "execution_count": 27,
   "id": "7a581dae",
   "metadata": {},
   "outputs": [],
   "source": [
    "#pip install wordcloud"
   ]
  },
  {
   "cell_type": "code",
   "execution_count": 28,
   "id": "c37ef5db",
   "metadata": {},
   "outputs": [
    {
     "name": "stderr",
     "output_type": "stream",
     "text": [
      "[nltk_data] Downloading package stopwords to\n",
      "[nltk_data]     C:\\Users\\utsav\\AppData\\Roaming\\nltk_data...\n",
      "[nltk_data]   Package stopwords is already up-to-date!\n",
      "[nltk_data] Downloading package wordnet to\n",
      "[nltk_data]     C:\\Users\\utsav\\AppData\\Roaming\\nltk_data...\n",
      "[nltk_data]   Package wordnet is already up-to-date!\n",
      "[nltk_data] Downloading package punkt to\n",
      "[nltk_data]     C:\\Users\\utsav\\AppData\\Roaming\\nltk_data...\n",
      "[nltk_data]   Package punkt is already up-to-date!\n"
     ]
    }
   ],
   "source": [
    "import re\n",
    "import nltk\n",
    "from nltk.corpus import stopwords\n",
    "nltk.download('stopwords')\n",
    "from nltk.stem import PorterStemmer\n",
    "from nltk.stem import WordNetLemmatizer\n",
    "nltk.download('wordnet')\n",
    "from nltk.tokenize import word_tokenize\n",
    "from nltk.tokenize import sent_tokenize\n",
    "nltk.download('punkt')\n",
    "from wordcloud import WordCloud"
   ]
  },
  {
   "cell_type": "code",
   "execution_count": 29,
   "id": "e1caf96f",
   "metadata": {},
   "outputs": [],
   "source": [
    "Headline = news_category['headline']"
   ]
  },
  {
   "cell_type": "code",
   "execution_count": 30,
   "id": "ca468837",
   "metadata": {},
   "outputs": [
    {
     "data": {
      "text/plain": [
       "0    Over 4 Million Americans Roll Up Sleeves For O...\n",
       "1    American Airlines Flyer Charged, Banned For Li...\n",
       "2    23 Of The Funniest Tweets About Cats And Dogs ...\n",
       "3    The Funniest Tweets From Parents This Week (Se...\n",
       "4    Woman Who Called Cops On Black Bird-Watcher Lo...\n",
       "Name: headline, dtype: object"
      ]
     },
     "execution_count": 30,
     "metadata": {},
     "output_type": "execute_result"
    }
   ],
   "source": [
    "Headline.head()"
   ]
  },
  {
   "cell_type": "code",
   "execution_count": 31,
   "id": "6320e92f",
   "metadata": {},
   "outputs": [],
   "source": [
    "Category = news_category['category']"
   ]
  },
  {
   "cell_type": "code",
   "execution_count": 32,
   "id": "2435b45a",
   "metadata": {},
   "outputs": [
    {
     "data": {
      "text/plain": [
       "0    U.S. NEWS\n",
       "1    U.S. NEWS\n",
       "2       COMEDY\n",
       "3    PARENTING\n",
       "4    U.S. NEWS\n",
       "Name: category, dtype: object"
      ]
     },
     "execution_count": 32,
     "metadata": {},
     "output_type": "execute_result"
    }
   ],
   "source": [
    "Category.head()"
   ]
  },
  {
   "cell_type": "code",
   "execution_count": 33,
   "id": "e88f5588",
   "metadata": {},
   "outputs": [
    {
     "data": {
      "text/plain": [
       "0         Over 4 Million Americans Roll Up Sleeves For O...\n",
       "1         American Airlines Flyer Charged, Banned For Li...\n",
       "2         23 Of The Funniest Tweets About Cats And Dogs ...\n",
       "3         The Funniest Tweets From Parents This Week (Se...\n",
       "4         Woman Who Called Cops On Black Bird-Watcher Lo...\n",
       "                                ...                        \n",
       "209522    RIM CEO Thorsten Heins' 'Significant' Plans Fo...\n",
       "209523    Maria Sharapova Stunned By Victoria Azarenka I...\n",
       "209524    Giants Over Patriots, Jets Over Colts Among  M...\n",
       "209525    Aldon Smith Arrested: 49ers Linebacker Busted ...\n",
       "209526    Dwight Howard Rips Teammates After Magic Loss ...\n",
       "Name: headline, Length: 209527, dtype: object"
      ]
     },
     "execution_count": 33,
     "metadata": {},
     "output_type": "execute_result"
    }
   ],
   "source": [
    "news_category['headline']"
   ]
  },
  {
   "cell_type": "markdown",
   "id": "bbdb9a74",
   "metadata": {},
   "source": [
    "<b>Removing tags from the dataset.⬇️</b>"
   ]
  },
  {
   "cell_type": "code",
   "execution_count": 34,
   "id": "9084ef3e",
   "metadata": {},
   "outputs": [
    {
     "data": {
      "text/plain": [
       "0         Over 4 Million Americans Roll Up Sleeves For O...\n",
       "1         American Airlines Flyer Charged, Banned For Li...\n",
       "2         23 Of The Funniest Tweets About Cats And Dogs ...\n",
       "3         The Funniest Tweets From Parents This Week (Se...\n",
       "4         Woman Who Called Cops On Black Bird-Watcher Lo...\n",
       "                                ...                        \n",
       "209522    RIM CEO Thorsten Heins' 'Significant' Plans Fo...\n",
       "209523    Maria Sharapova Stunned By Victoria Azarenka I...\n",
       "209524    Giants Over Patriots, Jets Over Colts Among  M...\n",
       "209525    Aldon Smith Arrested: 49ers Linebacker Busted ...\n",
       "209526    Dwight Howard Rips Teammates After Magic Loss ...\n",
       "Name: headline, Length: 209527, dtype: object"
      ]
     },
     "execution_count": 34,
     "metadata": {},
     "output_type": "execute_result"
    }
   ],
   "source": [
    "def remove_tags(tags):\n",
    "    remove = re.compile(r'')\n",
    "    return re.sub(remove, '',tags)\n",
    "news_category['headline'] = news_category['headline'].apply(remove_tags)\n",
    "news_category['headline']"
   ]
  },
  {
   "cell_type": "markdown",
   "id": "f9ab5813",
   "metadata": {},
   "source": [
    "<b>Removing special characters from the dataset.⬇️</b>\n",
    "- It includes the space between two words as well."
   ]
  },
  {
   "cell_type": "code",
   "execution_count": 35,
   "id": "e09820a2",
   "metadata": {},
   "outputs": [
    {
     "data": {
      "text/plain": [
       "0         Over4MillionAmericansRollUpSleevesForOmicronTa...\n",
       "1         AmericanAirlinesFlyerChargedBannedForLifeAfter...\n",
       "2         23OfTheFunniestTweetsAboutCatsAndDogsThisWeekS...\n",
       "3              TheFunniestTweetsFromParentsThisWeekSept1723\n",
       "4         WomanWhoCalledCopsOnBlackBirdWatcherLosesLawsu...\n",
       "                                ...                        \n",
       "209522     RIMCEOThorstenHeinsSignificantPlansForBlackBerry\n",
       "209523    MariaSharapovaStunnedByVictoriaAzarenkaInAustr...\n",
       "209524    GiantsOverPatriotsJetsOverColtsAmongMostImprob...\n",
       "209525        AldonSmithArrested49ersLinebackerBustedForDUI\n",
       "209526     DwightHowardRipsTeammatesAfterMagicLossToHornets\n",
       "Name: headline, Length: 209527, dtype: object"
      ]
     },
     "execution_count": 35,
     "metadata": {},
     "output_type": "execute_result"
    }
   ],
   "source": [
    "def special_char(char):\n",
    "    reviews = ''\n",
    "    for x in char:\n",
    "        if x.isalnum():\n",
    "            reviews = reviews + x\n",
    "        else:\n",
    "            reviews = reviews + ''\n",
    "    return reviews\n",
    "news_category['headline'] = news_category['headline'].apply(special_char)\n",
    "news_category['headline']"
   ]
  },
  {
   "cell_type": "markdown",
   "id": "c0ddcfc0",
   "metadata": {},
   "source": [
    "<b>Converting all the string into lowercase.⬇️</b>"
   ]
  },
  {
   "cell_type": "code",
   "execution_count": 36,
   "id": "3f839777",
   "metadata": {},
   "outputs": [
    {
     "data": {
      "text/plain": [
       "0         over4millionamericansrollupsleevesforomicronta...\n",
       "1         americanairlinesflyerchargedbannedforlifeafter...\n",
       "2         23ofthefunniesttweetsaboutcatsanddogsthisweeks...\n",
       "3              thefunniesttweetsfromparentsthisweeksept1723\n",
       "4         womanwhocalledcopsonblackbirdwatcherloseslawsu...\n",
       "                                ...                        \n",
       "209522     rimceothorstenheinssignificantplansforblackberry\n",
       "209523    mariasharapovastunnedbyvictoriaazarenkainaustr...\n",
       "209524    giantsoverpatriotsjetsovercoltsamongmostimprob...\n",
       "209525        aldonsmitharrested49erslinebackerbustedfordui\n",
       "209526     dwighthowardripsteammatesaftermagiclosstohornets\n",
       "Name: headline, Length: 209527, dtype: object"
      ]
     },
     "execution_count": 36,
     "metadata": {},
     "output_type": "execute_result"
    }
   ],
   "source": [
    "def convert_lower(low):\n",
    "    return low.lower()\n",
    "news_category['headline']=news_category['headline'].apply(convert_lower)\n",
    "news_category['headline']"
   ]
  },
  {
   "cell_type": "code",
   "execution_count": 37,
   "id": "f3a45eec",
   "metadata": {},
   "outputs": [
    {
     "data": {
      "text/plain": [
       "'over4millionamericansrollupsleevesforomicrontargetedcovidboosters'"
      ]
     },
     "execution_count": 37,
     "metadata": {},
     "output_type": "execute_result"
    }
   ],
   "source": [
    "news_category['headline'].head()[0]"
   ]
  },
  {
   "cell_type": "markdown",
   "id": "369a329b",
   "metadata": {},
   "source": [
    "<b>Removing all the stop words from the dataset.⬇️</b> \n",
    "- It is useful to stop the words from the string. Such as <b>'a, an, the, in', etc.</b>"
   ]
  },
  {
   "cell_type": "code",
   "execution_count": 38,
   "id": "5c90b9dd",
   "metadata": {},
   "outputs": [],
   "source": [
    "from nltk.tokenize import word_tokenize"
   ]
  },
  {
   "cell_type": "code",
   "execution_count": 39,
   "id": "5e7367fc",
   "metadata": {},
   "outputs": [
    {
     "data": {
      "text/plain": [
       "0    [over4millionamericansrollupsleevesforomicront...\n",
       "1    [americanairlinesflyerchargedbannedforlifeafte...\n",
       "2    [23ofthefunniesttweetsaboutcatsanddogsthisweek...\n",
       "3       [thefunniesttweetsfromparentsthisweeksept1723]\n",
       "4    [womanwhocalledcopsonblackbirdwatcherloseslaws...\n",
       "Name: headline, dtype: object"
      ]
     },
     "execution_count": 39,
     "metadata": {},
     "output_type": "execute_result"
    }
   ],
   "source": [
    "def remove_stopwords(s_w):\n",
    "    stop_words = set(stopwords.words('english'))\n",
    "    words = word_tokenize(s_w)\n",
    "    return [x for x in words if x not in stop_words]\n",
    "news_category['headline'] = news_category['headline'].apply(remove_stopwords)\n",
    "news_category['headline'].head()"
   ]
  },
  {
   "cell_type": "code",
   "execution_count": 40,
   "id": "5d88babe",
   "metadata": {},
   "outputs": [
    {
     "data": {
      "text/plain": [
       "['over4millionamericansrollupsleevesforomicrontargetedcovidboosters']"
      ]
     },
     "execution_count": 40,
     "metadata": {},
     "output_type": "execute_result"
    }
   ],
   "source": [
    "news_category['headline'].head()[0]"
   ]
  },
  {
   "cell_type": "markdown",
   "id": "88468dcb",
   "metadata": {},
   "source": [
    "<b>Lemmatizing the words from the dataset.⬇️</b>. \n",
    "- It is helpful to link the words with the similar meanings to the one word."
   ]
  },
  {
   "cell_type": "code",
   "execution_count": 41,
   "id": "f0c03384",
   "metadata": {},
   "outputs": [],
   "source": [
    "#pip install wordnet"
   ]
  },
  {
   "cell_type": "markdown",
   "id": "bb5375fa",
   "metadata": {},
   "source": [
    "it is useful when there is a need to lemmatize the strings.⬆️"
   ]
  },
  {
   "cell_type": "code",
   "execution_count": 42,
   "id": "2e041732",
   "metadata": {},
   "outputs": [],
   "source": [
    "#pip install nltk"
   ]
  },
  {
   "cell_type": "code",
   "execution_count": 43,
   "id": "ec4ea31e",
   "metadata": {},
   "outputs": [
    {
     "name": "stderr",
     "output_type": "stream",
     "text": [
      "[nltk_data] Downloading package wordnet to\n",
      "[nltk_data]     C:\\Users\\utsav\\AppData\\Roaming\\nltk_data...\n",
      "[nltk_data]   Package wordnet is already up-to-date!\n"
     ]
    },
    {
     "data": {
      "text/plain": [
       "True"
      ]
     },
     "execution_count": 43,
     "metadata": {},
     "output_type": "execute_result"
    }
   ],
   "source": [
    "from nltk.stem import WordNetLemmatizer\n",
    "nltk.download('wordnet')"
   ]
  },
  {
   "cell_type": "code",
   "execution_count": 44,
   "id": "df4d6dec",
   "metadata": {},
   "outputs": [
    {
     "data": {
      "text/plain": [
       "'americanairlinesflyerchargedbannedforlifeafterpunchingflightattendantonvideo'"
      ]
     },
     "execution_count": 44,
     "metadata": {},
     "output_type": "execute_result"
    }
   ],
   "source": [
    "def lemmatize_word(t):\n",
    "    wordnet = WordNetLemmatizer()\n",
    "    return \" \".join([wordnet.lemmatize(word) for word in t])\n",
    "news_category['headline'] = news_category['headline'].apply(lemmatize_word)\n",
    "news_category['headline'][1]"
   ]
  },
  {
   "cell_type": "code",
   "execution_count": 45,
   "id": "bd42cf96",
   "metadata": {},
   "outputs": [
    {
     "data": {
      "text/html": [
       "<div>\n",
       "<style scoped>\n",
       "    .dataframe tbody tr th:only-of-type {\n",
       "        vertical-align: middle;\n",
       "    }\n",
       "\n",
       "    .dataframe tbody tr th {\n",
       "        vertical-align: top;\n",
       "    }\n",
       "\n",
       "    .dataframe thead th {\n",
       "        text-align: right;\n",
       "    }\n",
       "</style>\n",
       "<table border=\"1\" class=\"dataframe\">\n",
       "  <thead>\n",
       "    <tr style=\"text-align: right;\">\n",
       "      <th></th>\n",
       "      <th>link</th>\n",
       "      <th>headline</th>\n",
       "      <th>category</th>\n",
       "      <th>short_description</th>\n",
       "      <th>authors</th>\n",
       "      <th>date</th>\n",
       "      <th>category_id</th>\n",
       "    </tr>\n",
       "  </thead>\n",
       "  <tbody>\n",
       "    <tr>\n",
       "      <th>0</th>\n",
       "      <td>https://www.huffpost.com/entry/covid-boosters-...</td>\n",
       "      <td>over4millionamericansrollupsleevesforomicronta...</td>\n",
       "      <td>U.S. NEWS</td>\n",
       "      <td>Health experts said it is too early to predict...</td>\n",
       "      <td>Carla K. Johnson, AP</td>\n",
       "      <td>2022-09-23</td>\n",
       "      <td>35</td>\n",
       "    </tr>\n",
       "    <tr>\n",
       "      <th>1</th>\n",
       "      <td>https://www.huffpost.com/entry/american-airlin...</td>\n",
       "      <td>americanairlinesflyerchargedbannedforlifeafter...</td>\n",
       "      <td>U.S. NEWS</td>\n",
       "      <td>He was subdued by passengers and crew when he ...</td>\n",
       "      <td>Mary Papenfuss</td>\n",
       "      <td>2022-09-23</td>\n",
       "      <td>35</td>\n",
       "    </tr>\n",
       "    <tr>\n",
       "      <th>2</th>\n",
       "      <td>https://www.huffpost.com/entry/funniest-tweets...</td>\n",
       "      <td>23ofthefunniesttweetsaboutcatsanddogsthisweeks...</td>\n",
       "      <td>COMEDY</td>\n",
       "      <td>\"Until you have a dog you don't understand wha...</td>\n",
       "      <td>Elyse Wanshel</td>\n",
       "      <td>2022-09-23</td>\n",
       "      <td>5</td>\n",
       "    </tr>\n",
       "    <tr>\n",
       "      <th>3</th>\n",
       "      <td>https://www.huffpost.com/entry/funniest-parent...</td>\n",
       "      <td>thefunniesttweetsfromparentsthisweeksept1723</td>\n",
       "      <td>PARENTING</td>\n",
       "      <td>\"Accidentally put grown-up toothpaste on my to...</td>\n",
       "      <td>Caroline Bologna</td>\n",
       "      <td>2022-09-23</td>\n",
       "      <td>22</td>\n",
       "    </tr>\n",
       "    <tr>\n",
       "      <th>4</th>\n",
       "      <td>https://www.huffpost.com/entry/amy-cooper-lose...</td>\n",
       "      <td>womanwhocalledcopsonblackbirdwatcherloseslawsu...</td>\n",
       "      <td>U.S. NEWS</td>\n",
       "      <td>Amy Cooper accused investment firm Franklin Te...</td>\n",
       "      <td>Nina Golgowski</td>\n",
       "      <td>2022-09-22</td>\n",
       "      <td>35</td>\n",
       "    </tr>\n",
       "  </tbody>\n",
       "</table>\n",
       "</div>"
      ],
      "text/plain": [
       "                                                link  \\\n",
       "0  https://www.huffpost.com/entry/covid-boosters-...   \n",
       "1  https://www.huffpost.com/entry/american-airlin...   \n",
       "2  https://www.huffpost.com/entry/funniest-tweets...   \n",
       "3  https://www.huffpost.com/entry/funniest-parent...   \n",
       "4  https://www.huffpost.com/entry/amy-cooper-lose...   \n",
       "\n",
       "                                            headline   category  \\\n",
       "0  over4millionamericansrollupsleevesforomicronta...  U.S. NEWS   \n",
       "1  americanairlinesflyerchargedbannedforlifeafter...  U.S. NEWS   \n",
       "2  23ofthefunniesttweetsaboutcatsanddogsthisweeks...     COMEDY   \n",
       "3       thefunniesttweetsfromparentsthisweeksept1723  PARENTING   \n",
       "4  womanwhocalledcopsonblackbirdwatcherloseslawsu...  U.S. NEWS   \n",
       "\n",
       "                                   short_description               authors  \\\n",
       "0  Health experts said it is too early to predict...  Carla K. Johnson, AP   \n",
       "1  He was subdued by passengers and crew when he ...        Mary Papenfuss   \n",
       "2  \"Until you have a dog you don't understand wha...         Elyse Wanshel   \n",
       "3  \"Accidentally put grown-up toothpaste on my to...      Caroline Bologna   \n",
       "4  Amy Cooper accused investment firm Franklin Te...        Nina Golgowski   \n",
       "\n",
       "        date  category_id  \n",
       "0 2022-09-23           35  \n",
       "1 2022-09-23           35  \n",
       "2 2022-09-23            5  \n",
       "3 2022-09-23           22  \n",
       "4 2022-09-22           35  "
      ]
     },
     "execution_count": 45,
     "metadata": {},
     "output_type": "execute_result"
    }
   ],
   "source": [
    "news_category.head()"
   ]
  },
  {
   "cell_type": "code",
   "execution_count": 46,
   "id": "3beb004a",
   "metadata": {},
   "outputs": [],
   "source": [
    "x = news_category['headline']\n",
    "y = news_category['category_id']"
   ]
  },
  {
   "cell_type": "code",
   "execution_count": 47,
   "id": "3a928c01",
   "metadata": {},
   "outputs": [
    {
     "data": {
      "text/plain": [
       "0         over4millionamericansrollupsleevesforomicronta...\n",
       "1         americanairlinesflyerchargedbannedforlifeafter...\n",
       "2         23ofthefunniesttweetsaboutcatsanddogsthisweeks...\n",
       "3              thefunniesttweetsfromparentsthisweeksept1723\n",
       "4         womanwhocalledcopsonblackbirdwatcherloseslawsu...\n",
       "                                ...                        \n",
       "209522     rimceothorstenheinssignificantplansforblackberry\n",
       "209523    mariasharapovastunnedbyvictoriaazarenkainaustr...\n",
       "209524    giantsoverpatriotsjetsovercoltsamongmostimprob...\n",
       "209525        aldonsmitharrested49erslinebackerbustedfordui\n",
       "209526     dwighthowardripsteammatesaftermagiclosstohornets\n",
       "Name: headline, Length: 209527, dtype: object"
      ]
     },
     "execution_count": 47,
     "metadata": {},
     "output_type": "execute_result"
    }
   ],
   "source": [
    "x"
   ]
  },
  {
   "cell_type": "code",
   "execution_count": 48,
   "id": "2a49a1f3",
   "metadata": {},
   "outputs": [
    {
     "data": {
      "text/plain": [
       "0         over4millionamericansrollupsleevesforomicronta...\n",
       "1         americanairlinesflyerchargedbannedforlifeafter...\n",
       "2         23ofthefunniesttweetsaboutcatsanddogsthisweeks...\n",
       "3              thefunniesttweetsfromparentsthisweeksept1723\n",
       "4         womanwhocalledcopsonblackbirdwatcherloseslawsu...\n",
       "                                ...                        \n",
       "209522     rimceothorstenheinssignificantplansforblackberry\n",
       "209523    mariasharapovastunnedbyvictoriaazarenkainaustr...\n",
       "209524    giantsoverpatriotsjetsovercoltsamongmostimprob...\n",
       "209525        aldonsmitharrested49erslinebackerbustedfordui\n",
       "209526     dwighthowardripsteammatesaftermagiclosstohornets\n",
       "Name: headline, Length: 209527, dtype: object"
      ]
     },
     "execution_count": 48,
     "metadata": {},
     "output_type": "execute_result"
    }
   ],
   "source": [
    "news_category['headline']"
   ]
  },
  {
   "cell_type": "code",
   "execution_count": 49,
   "id": "e1d0bb1f",
   "metadata": {},
   "outputs": [
    {
     "data": {
      "text/plain": [
       "(209527,)"
      ]
     },
     "execution_count": 49,
     "metadata": {},
     "output_type": "execute_result"
    }
   ],
   "source": [
    "x.shape"
   ]
  },
  {
   "cell_type": "code",
   "execution_count": 50,
   "id": "7abe67dc",
   "metadata": {},
   "outputs": [
    {
     "data": {
      "text/plain": [
       "97"
      ]
     },
     "execution_count": 50,
     "metadata": {},
     "output_type": "execute_result"
    }
   ],
   "source": [
    "gc.collect()"
   ]
  },
  {
   "cell_type": "code",
   "execution_count": 51,
   "id": "4ce3b94f",
   "metadata": {},
   "outputs": [],
   "source": [
    "from sklearn.feature_extraction.text import CountVectorizer"
   ]
  },
  {
   "cell_type": "code",
   "execution_count": 52,
   "id": "a628eb70",
   "metadata": {},
   "outputs": [],
   "source": [
    "x = np.array(news_category.iloc[:,0].values)\n",
    "y = np.array(news_category.category_id.values)\n",
    "cv = CountVectorizer(max_features = 100)\n",
    "x = cv.fit_transform(news_category.headline).toarray()\n"
   ]
  },
  {
   "cell_type": "code",
   "execution_count": 53,
   "id": "eb63c549",
   "metadata": {},
   "outputs": [
    {
     "data": {
      "text/plain": [
       "array([[0, 0, 0, ..., 0, 0, 0],\n",
       "       [0, 0, 0, ..., 0, 0, 0],\n",
       "       [0, 0, 0, ..., 0, 0, 0],\n",
       "       ...,\n",
       "       [0, 0, 0, ..., 0, 0, 0],\n",
       "       [0, 0, 0, ..., 0, 0, 0],\n",
       "       [0, 0, 0, ..., 0, 0, 0]], dtype=int64)"
      ]
     },
     "execution_count": 53,
     "metadata": {},
     "output_type": "execute_result"
    }
   ],
   "source": [
    "x"
   ]
  },
  {
   "cell_type": "code",
   "execution_count": 54,
   "id": "2025bd64",
   "metadata": {},
   "outputs": [],
   "source": [
    "from sklearn.model_selection import train_test_split"
   ]
  },
  {
   "cell_type": "code",
   "execution_count": 55,
   "id": "816374cc",
   "metadata": {},
   "outputs": [
    {
     "name": "stdout",
     "output_type": "stream",
     "text": [
      "146668\n",
      "62859\n"
     ]
    }
   ],
   "source": [
    "x_train, x_test, y_train, y_test = train_test_split(x, y, test_size = 0.3, random_state = 0, shuffle = True)\n",
    "print(len(x_train))\n",
    "print(len(x_test))"
   ]
  },
  {
   "cell_type": "code",
   "execution_count": 56,
   "id": "6135ba4d",
   "metadata": {},
   "outputs": [
    {
     "data": {
      "text/plain": [
       "array([16, 38, 27, ..., 28, 10, 21], dtype=int64)"
      ]
     },
     "execution_count": 56,
     "metadata": {},
     "output_type": "execute_result"
    }
   ],
   "source": [
    "y_train"
   ]
  },
  {
   "cell_type": "code",
   "execution_count": 57,
   "id": "35678f28",
   "metadata": {},
   "outputs": [],
   "source": [
    "from sklearn.feature_extraction.text import CountVectorizer\n",
    "from sklearn.feature_extraction.text import TfidfVectorizer\n",
    "from sklearn.model_selection import train_test_split\n",
    "from sklearn.metrics import accuracy_score\n",
    "from sklearn.metrics import confusion_matrix\n",
    "from sklearn.metrics import classification_report\n",
    "from sklearn.metrics import make_scorer, roc_curve, roc_auc_score\n",
    "from sklearn.metrics import precision_recall_fscore_support as score\n",
    "from sklearn.metrics.pairwise import cosine_similarity\n",
    "from sklearn.multiclass import OneVsRestClassifier\n",
    "from sklearn.linear_model import LogisticRegression\n",
    "from sklearn.svm import SVC, LinearSVC\n",
    "from sklearn.tree import DecisionTreeClassifier\n",
    "from sklearn.ensemble import RandomForestClassifier\n",
    "from sklearn.neighbors import KNeighborsClassifier\n",
    "from sklearn.naive_bayes import GaussianNB,MultinomialNB,BernoulliNB"
   ]
  },
  {
   "cell_type": "code",
   "execution_count": 58,
   "id": "ee357d1d",
   "metadata": {},
   "outputs": [],
   "source": [
    "list = [ ]"
   ]
  },
  {
   "cell_type": "code",
   "execution_count": 59,
   "id": "2b99f862",
   "metadata": {},
   "outputs": [],
   "source": [
    "def model(mdl_name, est_c, est_pnlty):\n",
    "    mdl=''\n",
    "    if mdl_name == 'Logistic Regression':\n",
    "        mdl = LogisticRegression()\n",
    "    elif mdl_name == 'Random Forest':\n",
    "        mdl = RandomForestClassifier(n_estimators=100, criterion='entropy', random_state=0)\n",
    "    elif mdl_name == 'Multinomial Naive Bayes':\n",
    "        mdl = MultinomialNB(alpha=1.0, fit_prior=True)\n",
    "    elif mdl_name == 'Support Vector Classifier':\n",
    "        mdl = SVC()\n",
    "    elif mdl_name == 'Decision Tree Classifier':\n",
    "        mdl = DecisionTreeClassifier()\n",
    "    elif mdl_name == 'K Nearest Neighbour':\n",
    "        mdl = KNeighborsClassifier(n_neighbors=10, metric = 'minkowski', p =4)\n",
    "    elif mdl_name == 'Gaussian Naive Bayes':\n",
    "        mdl = GaussianNB()\n",
    "    oneVsRest = OneVsRestClassifier(mdl)\n",
    "    oneVsRest.fit(x_train, y_train)\n",
    "    y_pred = oneVsRest.predict(x_test)\n",
    "    \n",
    "    #Performance Metrics\n",
    "    accuracy = round(accuracy_score(y_test, y_pred)*100, 2)\n",
    "    \n",
    "    #Get Precision, recall, and F1 Scores\n",
    "    precision, recall, f1score, support = score(y_test, y_pred, average='micro')\n",
    "    print(f'Test Accuracy Score of Basic {mdl_name}: % {accuracy}')\n",
    "    print(f'Precison : {precision}')\n",
    "    print(f'Recall : {recall}')\n",
    "    print(f'F1-score : {f1score}')\n",
    "    \n",
    "    #Add Performance Parameters to the List\n",
    "    list.append(dict([('Model', mdl_name),\n",
    "                     ('Test Accuracy', round(accuracy, 2)),\n",
    "                     ('Precison', round(precision, 2)),\n",
    "                     ('Recall', round(recall, 2)),\n",
    "                     ('F1', round(f1score, 2))\n",
    "                     ]))"
   ]
  },
  {
   "cell_type": "code",
   "execution_count": 60,
   "id": "9433e359",
   "metadata": {},
   "outputs": [
    {
     "name": "stdout",
     "output_type": "stream",
     "text": [
      "Test Accuracy Score of Basic Logistic Regression: % 17.38\n",
      "Precison : 0.17375395726944431\n",
      "Recall : 0.17375395726944431\n",
      "F1-score : 0.17375395726944431\n"
     ]
    }
   ],
   "source": [
    "model('Logistic Regression', est_c=None, est_pnlty=None)"
   ]
  },
  {
   "cell_type": "code",
   "execution_count": 61,
   "id": "f3ebf0ac",
   "metadata": {},
   "outputs": [
    {
     "data": {
      "text/plain": [
       "775"
      ]
     },
     "execution_count": 61,
     "metadata": {},
     "output_type": "execute_result"
    }
   ],
   "source": [
    "gc.collect()"
   ]
  },
  {
   "cell_type": "code",
   "execution_count": 71,
   "id": "f5dad022",
   "metadata": {},
   "outputs": [
    {
     "name": "stdout",
     "output_type": "stream",
     "text": [
      "Test Accuracy Score of Basic Multinomial Naive Bayes: % 17.39\n",
      "Precison : 0.17391304347826086\n",
      "Recall : 0.17391304347826086\n",
      "F1-score : 0.17391304347826086\n"
     ]
    }
   ],
   "source": [
    "model('Multinomial Naive Bayes', est_c=None, est_pnlty=None)"
   ]
  },
  {
   "cell_type": "code",
   "execution_count": 72,
   "id": "8f0b6f15",
   "metadata": {},
   "outputs": [
    {
     "data": {
      "text/plain": [
       "84"
      ]
     },
     "execution_count": 72,
     "metadata": {},
     "output_type": "execute_result"
    }
   ],
   "source": [
    "gc.collect()"
   ]
  },
  {
   "cell_type": "code",
   "execution_count": 73,
   "id": "8201e85b",
   "metadata": {},
   "outputs": [],
   "source": [
    "from sklearn.base import clone"
   ]
  },
  {
   "cell_type": "code",
   "execution_count": 74,
   "id": "8eb5753d",
   "metadata": {},
   "outputs": [
    {
     "data": {
      "text/plain": [
       "30"
      ]
     },
     "execution_count": 74,
     "metadata": {},
     "output_type": "execute_result"
    }
   ],
   "source": [
    "gc.collect()"
   ]
  },
  {
   "cell_type": "code",
   "execution_count": 75,
   "id": "49a6c6fb",
   "metadata": {},
   "outputs": [
    {
     "name": "stdout",
     "output_type": "stream",
     "text": [
      "Test Accuracy Score of Basic Decision Tree Classifier: % 17.42\n",
      "Precison : 0.17419939865413067\n",
      "Recall : 0.17419939865413067\n",
      "F1-score : 0.17419939865413067\n"
     ]
    }
   ],
   "source": [
    "model('Decision Tree Classifier', est_c=None, est_pnlty=None)"
   ]
  },
  {
   "cell_type": "code",
   "execution_count": 76,
   "id": "0daed1e6",
   "metadata": {},
   "outputs": [
    {
     "data": {
      "text/plain": [
       "54"
      ]
     },
     "execution_count": 76,
     "metadata": {},
     "output_type": "execute_result"
    }
   ],
   "source": [
    "gc.collect()"
   ]
  },
  {
   "cell_type": "code",
   "execution_count": 77,
   "id": "44c6cae4",
   "metadata": {},
   "outputs": [
    {
     "data": {
      "text/plain": [
       "15"
      ]
     },
     "execution_count": 77,
     "metadata": {},
     "output_type": "execute_result"
    }
   ],
   "source": [
    "gc.collect()"
   ]
  },
  {
   "cell_type": "code",
   "execution_count": 78,
   "id": "b23d5e08",
   "metadata": {},
   "outputs": [
    {
     "name": "stdout",
     "output_type": "stream",
     "text": [
      "Test Accuracy Score of Basic Random Forest: % 17.42\n",
      "Precison : 0.17421530727501233\n",
      "Recall : 0.17421530727501233\n",
      "F1-score : 0.17421530727501233\n"
     ]
    }
   ],
   "source": [
    "model('Random Forest', est_c=None, est_pnlty=None) "
   ]
  },
  {
   "cell_type": "code",
   "execution_count": 79,
   "id": "fb2b3dae",
   "metadata": {},
   "outputs": [
    {
     "name": "stdout",
     "output_type": "stream",
     "text": [
      "Test Accuracy Score of Basic Gaussian Naive Bayes: % 1.65\n",
      "Precison : 0.016544965716922\n",
      "Recall : 0.016544965716922\n",
      "F1-score : 0.016544965716922\n"
     ]
    }
   ],
   "source": [
    "model('Gaussian Naive Bayes', est_c=None, est_pnlty=None)"
   ]
  },
  {
   "cell_type": "code",
   "execution_count": 81,
   "id": "ff18081b",
   "metadata": {},
   "outputs": [],
   "source": [
    "performance = pd.DataFrame(data=list)\n",
    "performance = performance[['Model','Test Accuracy','Precision','Recall','F1']]"
   ]
  },
  {
   "cell_type": "code",
   "execution_count": 82,
   "id": "76465f3c",
   "metadata": {},
   "outputs": [
    {
     "data": {
      "text/html": [
       "<div>\n",
       "<style scoped>\n",
       "    .dataframe tbody tr th:only-of-type {\n",
       "        vertical-align: middle;\n",
       "    }\n",
       "\n",
       "    .dataframe tbody tr th {\n",
       "        vertical-align: top;\n",
       "    }\n",
       "\n",
       "    .dataframe thead th {\n",
       "        text-align: right;\n",
       "    }\n",
       "</style>\n",
       "<table border=\"1\" class=\"dataframe\">\n",
       "  <thead>\n",
       "    <tr style=\"text-align: right;\">\n",
       "      <th></th>\n",
       "      <th>Model</th>\n",
       "      <th>Test Accuracy</th>\n",
       "      <th>Precison</th>\n",
       "      <th>Recall</th>\n",
       "      <th>F1</th>\n",
       "    </tr>\n",
       "  </thead>\n",
       "  <tbody>\n",
       "    <tr>\n",
       "      <th>0</th>\n",
       "      <td>Logistic Regression</td>\n",
       "      <td>17.38</td>\n",
       "      <td>0.17</td>\n",
       "      <td>0.17</td>\n",
       "      <td>0.17</td>\n",
       "    </tr>\n",
       "    <tr>\n",
       "      <th>1</th>\n",
       "      <td>Multinomial Naive Bayes</td>\n",
       "      <td>17.39</td>\n",
       "      <td>0.17</td>\n",
       "      <td>0.17</td>\n",
       "      <td>0.17</td>\n",
       "    </tr>\n",
       "    <tr>\n",
       "      <th>2</th>\n",
       "      <td>Decision Tree Classifier</td>\n",
       "      <td>17.42</td>\n",
       "      <td>0.17</td>\n",
       "      <td>0.17</td>\n",
       "      <td>0.17</td>\n",
       "    </tr>\n",
       "    <tr>\n",
       "      <th>3</th>\n",
       "      <td>Random Forest</td>\n",
       "      <td>17.42</td>\n",
       "      <td>0.17</td>\n",
       "      <td>0.17</td>\n",
       "      <td>0.17</td>\n",
       "    </tr>\n",
       "    <tr>\n",
       "      <th>4</th>\n",
       "      <td>Gaussian Naive Bayes</td>\n",
       "      <td>1.65</td>\n",
       "      <td>0.02</td>\n",
       "      <td>0.02</td>\n",
       "      <td>0.02</td>\n",
       "    </tr>\n",
       "  </tbody>\n",
       "</table>\n",
       "</div>"
      ],
      "text/plain": [
       "                      Model  Test Accuracy  Precison  Recall    F1\n",
       "0       Logistic Regression          17.38      0.17    0.17  0.17\n",
       "1   Multinomial Naive Bayes          17.39      0.17    0.17  0.17\n",
       "2  Decision Tree Classifier          17.42      0.17    0.17  0.17\n",
       "3             Random Forest          17.42      0.17    0.17  0.17\n",
       "4      Gaussian Naive Bayes           1.65      0.02    0.02  0.02"
      ]
     },
     "execution_count": 82,
     "metadata": {},
     "output_type": "execute_result"
    }
   ],
   "source": [
    "performance"
   ]
  },
  {
   "cell_type": "code",
   "execution_count": 85,
   "id": "8080c0f4",
   "metadata": {},
   "outputs": [
    {
     "name": "stdout",
     "output_type": "stream",
     "text": [
      "Best accuracy score of model is 17.42 from Random Forest\n"
     ]
    }
   ],
   "source": [
    "model = performance['Model']\n",
    "max_value = performance['Test Accuracy'].max()\n",
    "print(\"Best accuracy score of model is\", max_value,'from Random Forest')"
   ]
  },
  {
   "cell_type": "code",
   "execution_count": 93,
   "id": "1e10822d",
   "metadata": {},
   "outputs": [],
   "source": [
    "classifier = RandomForestClassifier(n_estimators=100, criterion='entropy', random_state=0).fit(x_train, y_train)\n",
    "classifier\n",
    "y_pred = classifier.predict(x_test)"
   ]
  },
  {
   "cell_type": "code",
   "execution_count": 104,
   "id": "86e10199",
   "metadata": {},
   "outputs": [
    {
     "name": "stdout",
     "output_type": "stream",
     "text": [
      "The Category of the given headline is: POLITICS\n"
     ]
    }
   ],
   "source": [
    "Y_pred1 = cv.transform([\"Education minister open to changes on how indexation applies to HECS-HELP debt\"])\n",
    "hl = classifier.predict(Y_pred1)\n",
    "result = ''\n",
    "if hl == [0]:\n",
    "    result = 'ARTS'\n",
    "elif hl == [1]:\n",
    "    result = 'ARTS & CULTURE'\n",
    "elif hl == [2]:\n",
    "    result = 'BLACK VOICES'\n",
    "elif hl == [3]:\n",
    "    result = 'BUSINESS'\n",
    "elif hl == [4]:\n",
    "    result = 'COLLEGE'\n",
    "elif hl == [5]:\n",
    "    result = 'COMEDY'\n",
    "elif hl == [6]:\n",
    "    result = 'CRIME'\n",
    "elif hl == [7]:\n",
    "    result = 'CULTURE & ARTS'\n",
    "elif hl == [8]:\n",
    "    result = 'DIVORCE'\n",
    "elif hl == [9]:\n",
    "    result = 'EDUCATION'\n",
    "elif hl == [10]:\n",
    "    result = 'ENTERTAINMENT'\n",
    "elif hl == [11]:\n",
    "    result = 'ENVIRONMENT'\n",
    "elif hl == [12]:\n",
    "    result = 'FIFTY'\n",
    "elif hl == [13]:\n",
    "    result = 'FOOD & DRINK'\n",
    "elif hl == [14]:\n",
    "    result = 'GOOD NEWS'\n",
    "elif hl == [15]:\n",
    "    result = 'GREEN'\n",
    "elif hl == [16]:\n",
    "    result = 'HEALTHY LIVING'\n",
    "elif hl == [17]:\n",
    "    result = 'HOME & LIVING'\n",
    "elif hl == [18]:\n",
    "    result = 'IMPACT'\n",
    "elif hl == [19]:\n",
    "    result = 'LATINO VOICES'\n",
    "elif hl == [20]:\n",
    "    result = 'MEDIA'\n",
    "elif hl == [21]:\n",
    "    result = 'MONEY'\n",
    "elif hl == [22]:\n",
    "    result = 'PARENTING'\n",
    "elif hl == [23]:\n",
    "    result = 'PARENTS'\n",
    "elif hl == [24]:\n",
    "    result = 'POLITICS'\n",
    "elif hl == [25]:\n",
    "    result = 'QUEER VOICES'\n",
    "elif hl == [26]:\n",
    "    result = 'RELIGION'\n",
    "elif hl == [27]:\n",
    "    result = 'SCIENCE'\n",
    "elif hl == [28]:\n",
    "    result = 'SPORTS'\n",
    "elif hl == [29]:\n",
    "    result = 'STYLE'\n",
    "elif hl == [30]:\n",
    "    result = 'STYLE & BEAUTY'\n",
    "elif hl == [31]:\n",
    "    result = 'TASTE'\n",
    "elif hl == [32]:\n",
    "    result = 'TECH'\n",
    "elif hl == [33]:\n",
    "    result = 'THE WORLDPOST'\n",
    "elif hl == [34]:\n",
    "    result = 'TRAVEL'\n",
    "elif hl == [35]:\n",
    "    result = 'U.S. NEWS'\n",
    "elif hl == [36]:\n",
    "    result = 'WEDDINGS'\n",
    "elif hl == [37]:\n",
    "    result = 'WEIRD NEWS'\n",
    "elif hl == [38]:\n",
    "    result = 'WELLNESS'\n",
    "elif hl == [39]:\n",
    "    result = 'WOMEN'\n",
    "elif hl == [40]:\n",
    "    result = 'WORLD NEWS'\n",
    "elif hl == [41]:\n",
    "    result = 'WORLDPOST'\n",
    "print('The Category of the given headline is:', result)"
   ]
  },
  {
   "cell_type": "code",
   "execution_count": null,
   "id": "d3e6940f",
   "metadata": {},
   "outputs": [],
   "source": []
  }
 ],
 "metadata": {
  "kernelspec": {
   "display_name": "Python 3 (ipykernel)",
   "language": "python",
   "name": "python3"
  },
  "language_info": {
   "codemirror_mode": {
    "name": "ipython",
    "version": 3
   },
   "file_extension": ".py",
   "mimetype": "text/x-python",
   "name": "python",
   "nbconvert_exporter": "python",
   "pygments_lexer": "ipython3",
   "version": "3.8.17"
  }
 },
 "nbformat": 4,
 "nbformat_minor": 5
}
